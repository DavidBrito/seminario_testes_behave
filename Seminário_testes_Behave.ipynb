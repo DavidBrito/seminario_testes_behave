{
  "nbformat": 4,
  "nbformat_minor": 0,
  "metadata": {
    "colab": {
      "name": "Seminário testes Behave.ipynb",
      "provenance": [],
      "collapsed_sections": [],
      "include_colab_link": true
    },
    "kernelspec": {
      "name": "python3",
      "display_name": "Python 3"
    }
  },
  "cells": [
    {
      "cell_type": "markdown",
      "metadata": {
        "id": "view-in-github",
        "colab_type": "text"
      },
      "source": [
        "<a href=\"https://colab.research.google.com/github/DavidBrito/seminario_testes_behave/blob/master/Semin%C3%A1rio_testes_Behave.ipynb\" target=\"_parent\"><img src=\"https://colab.research.google.com/assets/colab-badge.svg\" alt=\"Open In Colab\"/></a>"
      ]
    },
    {
      "cell_type": "markdown",
      "metadata": {
        "id": "KXAqYzhGQFPE",
        "colab_type": "text"
      },
      "source": [
        "**Behave: BDD framework**\n",
        "---\n",
        "\n",
        "\n",
        "\n"
      ]
    },
    {
      "cell_type": "markdown",
      "metadata": {
        "id": "cEF9mN_eQPBq",
        "colab_type": "text"
      },
      "source": [
        "O que é o Behave?\n",
        "---\n",
        "\n",
        "---\n",
        "\n",
        "\n",
        "Biblioteca Python\n",
        "\n",
        "![Logo behave](https://behave.readthedocs.io/en/latest/_static/behave_logo1.png)\n",
        "\n",
        "Permite: \n",
        "\n",
        "*   Escrita de especificações (specs) em linguagem natural.\n",
        "*   Execução de cenários através de asserções em \"linguagem de programação\". \n",
        "\n",
        "Implementa os conceitos de BDD (Behavior Driven Development)."
      ]
    },
    {
      "cell_type": "markdown",
      "metadata": {
        "id": "UD_mfYzXQSth",
        "colab_type": "text"
      },
      "source": [
        "O que é BDD?\n",
        "---\n",
        "---\n",
        "Behavioral Driven Development (BDD) é uma __abordagem de desenvolvimento de software__ que evoluiu do TDD (Test Driven Development).\n",
        "<br>\n",
        "<br>\n",
        "É escrita em uma 'linguagem compartilhada' (Gherkins) que __melhora a comunicação__ entre técnicos e leigos em computação. \n",
        "<br>\n",
        "<br>\n",
        "Nas duas abordagens, os testes são escritos antes do código. Em BDD, os testes são centrados no __usuário__ e no __comportamento__ do sistema.\n",
        "<br>\n",
        "<br>\n",
        "Exemplos de comportamentos:\n",
        "* Login em uma página web.\n",
        "* Clicar em links na barra de navegação.\n",
        "* Enviar formulários.\n",
        "* Realizar transações bem-sucedidas.\n",
        "<br>\n",
        "\n",
        "\n",
        "\n"
      ]
    },
    {
      "cell_type": "markdown",
      "metadata": {
        "id": "_5GuSuq1QbUu",
        "colab_type": "text"
      },
      "source": [
        "Quais os benefícios de usar BDD\n",
        "---\n",
        "\n",
        "1. Testa o comportamento do software, ao invés de módulos isolados.\n",
        "\n",
        "2.  Melhoria da **comunicação** entre desenvolvedores, testers, e Product Owners.\n",
        "\n",
        "3. BDD pode ser explicado usado uma __linguagem mais simples__ que possui uma baixa curva de apredizado.\n",
        "\n",
        "4. Por natureza é mais alinhado com as pessoas menos técnicas do projeto (PO, business, cliente).\n",
        "\n",
        "\n",
        "Como ponto negativo:\n",
        "\n",
        "* Se os __requisitos__ não forem __devidamente especificados__ BDD pode não ser muito efetivo.\n",
        "\n",
        "\n",
        "\n"
      ]
    },
    {
      "cell_type": "markdown",
      "metadata": {
        "id": "Lcim1EetQtmO",
        "colab_type": "text"
      },
      "source": [
        "Contexto da demonstração\n",
        "---\n",
        "---\n",
        "\n",
        "Módulo: validador de senha\n",
        "<br><br/>\n",
        "\n",
        "Recebe uma entrada e imprime no console se é uma senha válida ou não.\n",
        "<br><br/>\n",
        "\n",
        "A senha deve ter:\n",
        "\n",
        "*   Mais que oito caracteres.\n",
        "*   Pelo menos uma letra minúscula.\n",
        "*   Pelo menos uma letra maiúscula.\n",
        "*   Pelo menos um digito\n",
        "*   Simbolos especiais (_@$#!%&*)\n",
        "<br><br/>\n",
        "\n",
        "Estrutura do projeto:\n",
        "```\n",
        "seminario_testes_behave\n",
        "|\n",
        "+-- features\n",
        "|  |\n",
        "|  +-- senhasValidas.feature\n",
        "|  |\n",
        "|  +-- senhasInvalidas.feature\n",
        "|  |\n",
        "|  +-- steps\n",
        "|  |   |\n",
        "|  |   +-- validador_steps.py\n",
        "|  |    \n",
        "|  +-- modules \n",
        "|     |\n",
        "|     +-- validadorSenha.py\n",
        "```\n"
      ]
    },
    {
      "cell_type": "markdown",
      "metadata": {
        "id": "r8ZOR-bvLC9I",
        "colab_type": "text"
      },
      "source": [
        "Criando a pasta do projeto\n",
        "\n",
        "---\n",
        "\n"
      ]
    },
    {
      "cell_type": "code",
      "metadata": {
        "id": "TZMPF2AzKydY",
        "colab_type": "code",
        "colab": {
          "base_uri": "https://localhost:8080/",
          "height": 119
        },
        "outputId": "60502632-cfe8-4e45-b788-f1fc4b92aea0"
      },
      "source": [
        "!git clone https://github.com/DavidBrito/seminario_testes_behave.git"
      ],
      "execution_count": 1,
      "outputs": [
        {
          "output_type": "stream",
          "text": [
            "Cloning into 'seminario_testes_behave'...\n",
            "remote: Enumerating objects: 42, done.\u001b[K\n",
            "remote: Counting objects: 100% (42/42), done.\u001b[K\n",
            "remote: Compressing objects: 100% (32/32), done.\u001b[K\n",
            "remote: Total 42 (delta 9), reused 23 (delta 5), pack-reused 0\u001b[K\n",
            "Unpacking objects: 100% (42/42), done.\n"
          ],
          "name": "stdout"
        }
      ]
    },
    {
      "cell_type": "markdown",
      "metadata": {
        "id": "QQ5iwzMDIMe1",
        "colab_type": "text"
      },
      "source": [
        "Módulo ValidadorSenha.py\n",
        "\n",
        "---"
      ]
    },
    {
      "cell_type": "code",
      "metadata": {
        "id": "lxXzuZsVH6iX",
        "colab_type": "code",
        "colab": {
          "base_uri": "https://localhost:8080/",
          "height": 102
        },
        "outputId": "11526471-a315-4148-80c9-1085ac56e8be"
      },
      "source": [
        "import re\n",
        "\n",
        "def validaSenha(senha):\n",
        "\n",
        "  valido = True\n",
        "\n",
        "  if len(senha) < 8:\n",
        "    print('senha menor que 8 digitos')\n",
        "    valido = False\n",
        "\n",
        "  if not re.search('[0-9]', senha):\n",
        "    print('senha deve ter pelo menos um numero')\n",
        "    valido = False\n",
        "\n",
        "  if not re.search('[A-Z]', senha):\n",
        "    print('senha deve ter pelo menos uma letra maiuscula')\n",
        "    valido = False\n",
        "\n",
        "  if not re.search('[a-z]', senha):\n",
        "    print('senha deve ter pelo menos uma letra minuscula')\n",
        "    valido = False\n",
        "\n",
        "  if not re.search(\"[_@$#!%&*]\", senha):\n",
        "    print('senha deve ter pelo menos um dos simbolos _@$#!%&*')\n",
        "    valido = False\n",
        "\n",
        "  return valido\n",
        "\n",
        "def main():\n",
        "  senha = 'testes'\n",
        "\n",
        "  if (validaSenha(senha)):\n",
        "    print(\"Senha valida!\")\n",
        "  else:\n",
        "    print(\"Senha invalida!\")\n",
        "\n",
        "if __name__ == '__main__':\n",
        "  main()\n"
      ],
      "execution_count": 2,
      "outputs": [
        {
          "output_type": "stream",
          "text": [
            "senha menor que 8 digitos\n",
            "senha deve ter pelo menos um numero\n",
            "senha deve ter pelo menos uma letra maiuscula\n",
            "senha deve ter pelo menos um dos simbolos _@$#!%&*\n",
            "Senha invalida!\n"
          ],
          "name": "stdout"
        }
      ]
    },
    {
      "cell_type": "markdown",
      "metadata": {
        "id": "mjfs2LaUVDih",
        "colab_type": "text"
      },
      "source": [
        "Instalação Behave\n",
        "---\n",
        "\n"
      ]
    },
    {
      "cell_type": "markdown",
      "metadata": {
        "id": "VxhswF5yVg0N",
        "colab_type": "text"
      },
      "source": [
        "Necessário:\t\n",
        "*   Python\n",
        "*   pip (gerenciador de pacotes)\n",
        "\n"
      ]
    },
    {
      "cell_type": "code",
      "metadata": {
        "id": "EYezYuTSu9oh",
        "colab_type": "code",
        "colab": {
          "base_uri": "https://localhost:8080/",
          "height": 292
        },
        "outputId": "be80f1be-dde7-48e2-d5ff-52898c6612d6"
      },
      "source": [
        "!pip install behave"
      ],
      "execution_count": 3,
      "outputs": [
        {
          "output_type": "stream",
          "text": [
            "Collecting behave\n",
            "\u001b[?25l  Downloading https://files.pythonhosted.org/packages/a8/6c/ec9169548b6c4cb877aaa6773408ca08ae2a282805b958dbc163cb19822d/behave-1.2.6-py2.py3-none-any.whl (136kB)\n",
            "\r\u001b[K     |██▍                             | 10kB 19.6MB/s eta 0:00:01\r\u001b[K     |████▉                           | 20kB 6.5MB/s eta 0:00:01\r\u001b[K     |███████▏                        | 30kB 9.2MB/s eta 0:00:01\r\u001b[K     |█████████▋                      | 40kB 6.1MB/s eta 0:00:01\r\u001b[K     |████████████                    | 51kB 7.4MB/s eta 0:00:01\r\u001b[K     |██████████████▍                 | 61kB 8.7MB/s eta 0:00:01\r\u001b[K     |████████████████▊               | 71kB 9.9MB/s eta 0:00:01\r\u001b[K     |███████████████████▏            | 81kB 11.0MB/s eta 0:00:01\r\u001b[K     |█████████████████████▋          | 92kB 12.1MB/s eta 0:00:01\r\u001b[K     |████████████████████████        | 102kB 9.6MB/s eta 0:00:01\r\u001b[K     |██████████████████████████▍     | 112kB 9.6MB/s eta 0:00:01\r\u001b[K     |████████████████████████████▊   | 122kB 9.6MB/s eta 0:00:01\r\u001b[K     |███████████████████████████████▏| 133kB 9.6MB/s eta 0:00:01\r\u001b[K     |████████████████████████████████| 143kB 9.6MB/s \n",
            "\u001b[?25hRequirement already satisfied: six>=1.11 in /usr/local/lib/python3.6/dist-packages (from behave) (1.12.0)\n",
            "Collecting parse-type>=0.4.2\n",
            "  Downloading https://files.pythonhosted.org/packages/1b/81/2a168b41acb57f1ea8e1e09937f585a0b9105557b13562ff8655fea81c09/parse_type-0.5.2-py2.py3-none-any.whl\n",
            "Collecting parse>=1.8.2\n",
            "  Downloading https://files.pythonhosted.org/packages/84/4d/5578a484f4a3ec5d4440a95731a104a96a12a6fb57385292d3e7b74d8f6d/parse-1.12.1.tar.gz\n",
            "Building wheels for collected packages: parse\n",
            "  Building wheel for parse (setup.py) ... \u001b[?25l\u001b[?25hdone\n",
            "  Created wheel for parse: filename=parse-1.12.1-cp36-none-any.whl size=22342 sha256=f22c9dccc9476ec7f54ee310b9fcba06d042968fd922d7976005534927039924\n",
            "  Stored in directory: /root/.cache/pip/wheels/16/f1/d5/72f7e2c22ab3d106bb6f7d727552b5e027b832284f4704b106\n",
            "Successfully built parse\n",
            "Installing collected packages: parse, parse-type, behave\n",
            "Successfully installed behave-1.2.6 parse-1.12.1 parse-type-0.5.2\n"
          ],
          "name": "stdout"
        }
      ]
    },
    {
      "cell_type": "markdown",
      "metadata": {
        "id": "sGIGiTpVZJTP",
        "colab_type": "text"
      },
      "source": [
        "Visão geral processo\n",
        "---\n",
        "---\n",
        "<br><br/>\n",
        "\n",
        "![Ciclo processo\n",
        "](https://www.tutorialspoint.com/cucumber/images/bdd.jpg)\n",
        "\n",
        "<br><br/>\n",
        "User requirements -> Features -> Gherkin parser -> Behave steps -> Output"
      ]
    },
    {
      "cell_type": "markdown",
      "metadata": {
        "id": "7oyJ8HzhWsOe",
        "colab_type": "text"
      },
      "source": [
        "Linguagem Gherkin \n",
        "---\n",
        "---\n",
        "\n",
        "É uma **linguagem estruturada** escrita em linguagem natural. É usada para **especificar** o comportamento do sistema em determinados **cenários**. A partir disso, o Behave pode gerar os **testes de aceitação**.\n",
        "\n",
        "Idiomas: en, pt, fr ...\n",
        "\n",
        "Exemplo:\n",
        "\n",
        "| Inglês | Português |\n",
        "| --- | --- |\n",
        "| Feature | Funcionalidade |\n",
        "| Scenario | Cenário |\n",
        "| Given | Dado |\n",
        "| When | Quando |\n",
        "| Then | Então |\n",
        "| And | E |\n",
        "| But | Mas |\n",
        "| Examples | Exemplos |\n"
      ]
    },
    {
      "cell_type": "markdown",
      "metadata": {
        "id": "1jHeVtAIH7Kt",
        "colab_type": "text"
      },
      "source": [
        "Features e Steps\n",
        "---\n",
        "---\n",
        "\n",
        "\n",
        "\n"
      ]
    },
    {
      "cell_type": "markdown",
      "metadata": {
        "id": "biPOMcMcIBLT",
        "colab_type": "text"
      },
      "source": [
        "Arquivo senhasValidas.feature"
      ]
    },
    {
      "cell_type": "code",
      "metadata": {
        "id": "UEeRQ6XpIAFB",
        "colab_type": "code",
        "colab": {}
      },
      "source": [
        "# language: pt\n",
        "\n",
        "Funcionalidade: validacao de senha\n",
        "\n",
        "Esquema do Cenário: valida senha\n",
        "    Dado que eu tenho uma senha <senha>\n",
        "    Quando eu valido a senha\n",
        "    Então devo receber <resposta>\n",
        "\n",
        "Exemplos: senhas validas\n",
        "   | senha                    | resposta |\n",
        "   | Teste1%$                 |   True   |\n",
        "   | Senha12$                 |   True   |\n",
        "   | senhaLongamaisde20$C     |   True   |\n",
        "\n",
        "Exemplos: senhas invalidas\n",
        "   | senha           | resposta |\n",
        "   | teste           | False    |\n",
        "   | TESTE           | False    |\n",
        "   | Teste           | False    |\n",
        "   | teste1          | False    |\n",
        "   | Teste1          | False    |\n",
        "   | Teste1%         | False    |\n",
        "   | teste1%         | False    |\n",
        "   | teste%          | False    |\n",
        "   | testeteste1%    | False    |\n",
        "   | testetesteteste | False    |\n"
      ],
      "execution_count": 0,
      "outputs": []
    },
    {
      "cell_type": "markdown",
      "metadata": {
        "id": "iPr03P_YQytm",
        "colab_type": "text"
      },
      "source": [
        "Arquivo validador_steps.py"
      ]
    },
    {
      "cell_type": "code",
      "metadata": {
        "id": "f1-RRtsV0DKN",
        "colab_type": "code",
        "colab": {}
      },
      "source": [
        "from module.validadorSenha import validaSenha\n",
        "from behave import *\n",
        "\n",
        "@given(u'que eu tenho uma senha {senha}')\n",
        "def step_impl(context, senha):\n",
        "    context.senha = senha\n",
        "\n",
        "\n",
        "@when(u'eu valido a senha')\n",
        "def step_impl(context):\n",
        "    context.resposta = validaSenha(context.senha)\n",
        "\n",
        "\n",
        "@then(u'devo receber {resposta}')\n",
        "def step_impl(context, resposta):\n",
        "    assert str(context.resposta) == resposta, '%s deve ser %s' % (context.senha, resposta) "
      ],
      "execution_count": 0,
      "outputs": []
    },
    {
      "cell_type": "markdown",
      "metadata": {
        "id": "chUjglpM90Lc",
        "colab_type": "text"
      },
      "source": [
        "Executando os testes com behave\n",
        "\n",
        "---\n",
        "\n"
      ]
    },
    {
      "cell_type": "code",
      "metadata": {
        "colab_type": "code",
        "id": "5wY8bvEcXRAn",
        "colab": {
          "base_uri": "https://localhost:8080/",
          "height": 663
        },
        "outputId": "da5d67b9-68a0-4d48-f131-23ee50023820"
      },
      "source": [
        "!behave /content/seminario_testes_behave/features/"
      ],
      "execution_count": 7,
      "outputs": [
        {
          "output_type": "stream",
          "text": [
            "Funcionalidade: validacao de senha\u001b[90m # seminario_testes_behave/features/senhasValidas.feature:3\u001b[0m\n",
            "\n",
            "  Esquema do Cenário: valida senha -- @1.1 senhas validas \u001b[90m # seminario_testes_behave/features/senhasValidas.feature:12\u001b[0m\n",
            "    \u001b[90mDado \u001b[0m\u001b[90mque eu tenho uma senha \u001b[0m\u001b[90m\u001b[1mTeste##1\u001b[0m\u001b[90m                   # seminario_testes_behave/features/steps/validador_steps.py:4\u001b[0m\n",
            "\u001b[2A    \u001b[32mDado \u001b[0m\u001b[32mque eu tenho uma senha \u001b[0m\u001b[32m\u001b[1mTeste##1\u001b[0m\u001b[90m                   # seminario_testes_behave/features/steps/validador_steps.py:4 0.000s\u001b[0m\n",
            "    \u001b[90mQuando \u001b[0m\u001b[90meu valido a senha\u001b[0m\u001b[90m                               # seminario_testes_behave/features/steps/validador_steps.py:9\u001b[0m\n",
            "\u001b[2A    \u001b[32mQuando \u001b[0m\u001b[32meu valido a senha\u001b[0m\u001b[90m                               # seminario_testes_behave/features/steps/validador_steps.py:9 0.000s\u001b[0m\n",
            "    \u001b[90mEntão \u001b[0m\u001b[90mdevo receber \u001b[0m\u001b[90m\u001b[1mTrue\u001b[0m\u001b[90m                                # seminario_testes_behave/features/steps/validador_steps.py:14\u001b[0m\n",
            "\u001b[2A    \u001b[32mEntão \u001b[0m\u001b[32mdevo receber \u001b[0m\u001b[32m\u001b[1mTrue\u001b[0m\u001b[90m                                # seminario_testes_behave/features/steps/validador_steps.py:14 0.000s\u001b[0m\n",
            "\n",
            "  Esquema do Cenário: valida senha -- @1.2 senhas validas \u001b[90m # seminario_testes_behave/features/senhasValidas.feature:13\u001b[0m\n",
            "    \u001b[90mDado \u001b[0m\u001b[90mque eu tenho uma senha \u001b[0m\u001b[90m\u001b[1mSenha12$\u001b[0m\u001b[90m                   # seminario_testes_behave/features/steps/validador_steps.py:4\u001b[0m\n",
            "\u001b[2A    \u001b[32mDado \u001b[0m\u001b[32mque eu tenho uma senha \u001b[0m\u001b[32m\u001b[1mSenha12$\u001b[0m\u001b[90m                   # seminario_testes_behave/features/steps/validador_steps.py:4 0.000s\u001b[0m\n",
            "    \u001b[90mQuando \u001b[0m\u001b[90meu valido a senha\u001b[0m\u001b[90m                               # seminario_testes_behave/features/steps/validador_steps.py:9\u001b[0m\n",
            "\u001b[2A    \u001b[32mQuando \u001b[0m\u001b[32meu valido a senha\u001b[0m\u001b[90m                               # seminario_testes_behave/features/steps/validador_steps.py:9 0.000s\u001b[0m\n",
            "    \u001b[90mEntão \u001b[0m\u001b[90mdevo receber \u001b[0m\u001b[90m\u001b[1mTrue\u001b[0m\u001b[90m                                # seminario_testes_behave/features/steps/validador_steps.py:14\u001b[0m\n",
            "\u001b[2A    \u001b[32mEntão \u001b[0m\u001b[32mdevo receber \u001b[0m\u001b[32m\u001b[1mTrue\u001b[0m\u001b[90m                                # seminario_testes_behave/features/steps/validador_steps.py:14 0.000s\u001b[0m\n",
            "\n",
            "  Esquema do Cenário: valida senha -- @2.1 senhas invalidas \u001b[90m # seminario_testes_behave/features/senhasValidas.feature:17\u001b[0m\n",
            "    \u001b[90mDado \u001b[0m\u001b[90mque eu tenho uma senha \u001b[0m\u001b[90m\u001b[1mteste$$1\u001b[0m\u001b[90m                     # seminario_testes_behave/features/steps/validador_steps.py:4\u001b[0m\n",
            "\u001b[2A    \u001b[32mDado \u001b[0m\u001b[32mque eu tenho uma senha \u001b[0m\u001b[32m\u001b[1mteste$$1\u001b[0m\u001b[90m                     # seminario_testes_behave/features/steps/validador_steps.py:4 0.000s\u001b[0m\n",
            "    \u001b[90mQuando \u001b[0m\u001b[90meu valido a senha\u001b[0m\u001b[90m                                 # seminario_testes_behave/features/steps/validador_steps.py:9\u001b[0m\n",
            "\u001b[2A    \u001b[32mQuando \u001b[0m\u001b[32meu valido a senha\u001b[0m\u001b[90m                                 # seminario_testes_behave/features/steps/validador_steps.py:9 0.000s\u001b[0m\n",
            "    \u001b[90mEntão \u001b[0m\u001b[90mdevo receber \u001b[0m\u001b[90m\u001b[1mFalse\u001b[0m\u001b[90m                                 # seminario_testes_behave/features/steps/validador_steps.py:14\u001b[0m\n",
            "\u001b[2A    \u001b[32mEntão \u001b[0m\u001b[32mdevo receber \u001b[0m\u001b[32m\u001b[1mFalse\u001b[0m\u001b[90m                                 # seminario_testes_behave/features/steps/validador_steps.py:14 0.000s\u001b[0m\n",
            "\n",
            "  Esquema do Cenário: valida senha -- @2.2 senhas invalidas \u001b[90m # seminario_testes_behave/features/senhasValidas.feature:18\u001b[0m\n",
            "    \u001b[90mDado \u001b[0m\u001b[90mque eu tenho uma senha \u001b[0m\u001b[90m\u001b[1mTESTE222\u001b[0m\u001b[90m                     # seminario_testes_behave/features/steps/validador_steps.py:4\u001b[0m\n",
            "\u001b[2A    \u001b[32mDado \u001b[0m\u001b[32mque eu tenho uma senha \u001b[0m\u001b[32m\u001b[1mTESTE222\u001b[0m\u001b[90m                     # seminario_testes_behave/features/steps/validador_steps.py:4 0.000s\u001b[0m\n",
            "    \u001b[90mQuando \u001b[0m\u001b[90meu valido a senha\u001b[0m\u001b[90m                                 # seminario_testes_behave/features/steps/validador_steps.py:9\u001b[0m\n",
            "\u001b[2A    \u001b[32mQuando \u001b[0m\u001b[32meu valido a senha\u001b[0m\u001b[90m                                 # seminario_testes_behave/features/steps/validador_steps.py:9 0.000s\u001b[0m\n",
            "    \u001b[90mEntão \u001b[0m\u001b[90mdevo receber \u001b[0m\u001b[90m\u001b[1mFalse\u001b[0m\u001b[90m                                 # seminario_testes_behave/features/steps/validador_steps.py:14\u001b[0m\n",
            "\u001b[2A    \u001b[32mEntão \u001b[0m\u001b[32mdevo receber \u001b[0m\u001b[32m\u001b[1mFalse\u001b[0m\u001b[90m                                 # seminario_testes_behave/features/steps/validador_steps.py:14 0.000s\u001b[0m\n",
            "\n",
            "1 feature passed, 0 failed, 0 skipped\n",
            "4 scenarios passed, 0 failed, 0 skipped\n",
            "12 steps passed, 0 failed, 0 skipped, 0 undefined\n",
            "Took 0m0.001s\n"
          ],
          "name": "stdout"
        }
      ]
    }
  ]
}